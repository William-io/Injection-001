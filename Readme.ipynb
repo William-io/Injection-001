{
 "cells": [
  {
   "cell_type": "markdown",
   "metadata": {},
   "source": [
    "## Alto acoplamento\n",
    "- Segue o exemplo onde suponhamos que temos a classe Business e Data.\n",
    "\n",
    "O problema é que imagine que esses dados acessam os direitos de classe, os dados para o SQL Server.\n",
    "\n",
    "Então você tem, por exemplo, 10 linhas de código que dividem os dados para SQL Server.\n",
    "\n",
    "Se quisermos mudar do SQL Server para, por exemplo, micro marcas iguais ou para um banco de dados sem igual ou você tem que vir e mudar o corpo de seu método de loja, que isso é contra o aberto fechado princípio.\n",
    "\n",
    "\n"
   ]
  },
  {
   "cell_type": "code",
   "execution_count": null,
   "metadata": {
    "dotnet_interactive": {
     "language": "csharp"
    }
   },
   "outputs": [],
   "source": [
    "// See https://aka.ms/new-console-template for more information\n",
    "\n",
    "\n",
    "public class UserInterface\n",
    "{\n",
    "    public void GetData()\n",
    "    {\n",
    "        Console.WriteLine(\"Entre com seu username:\");\n",
    "        var userName = Console.ReadLine();\n",
    "\n",
    "        Console.Write(\"Entre com seu password:\");\n",
    "        var password = Console.ReadLine();\n",
    "\n",
    "        var business = new Business();\n",
    "        business.SignUp(userName, password);\n",
    "    }\n",
    "}\n",
    "\n",
    "public class Business\n",
    "{\n",
    "    public void SignUp(string userName, string password)\n",
    "    {\n",
    "        //Validation\n",
    "        var dataAccess = new DataAccess();\n",
    "        dataAccess.Store(userName, password);\n",
    "    }\n",
    "}\n",
    "\n",
    "public class DataAccess\n",
    "{\n",
    "    public void Store(string userName, string password)\n",
    "    {\n",
    "        //Escrevendo no banco de dados\n",
    "    }\n",
    "}\n",
    "\n"
   ]
  },
  {
   "cell_type": "markdown",
   "metadata": {},
   "source": [
    "Então, aqui mostra como as coisas podem ser fortemente acopladas ou firmemente acopladas.\n",
    "\n",
    "- Proxima etapa é reduzir o acoplamento"
   ]
  },
  {
   "cell_type": "code",
   "execution_count": null,
   "metadata": {
    "dotnet_interactive": {
     "language": "csharp"
    }
   },
   "outputs": [],
   "source": [
    "//Cria-se uma interface para o usuário\n",
    "public interface IBusiness\n",
    "{\n",
    "    void SignUp(string userName, string password);\n",
    "}\n",
    "\n",
    "//Business implementa a interface\n",
    "public class Business : IBusiness\n",
    "{\n",
    "    public void SignUp(string userName, string password)\n",
    "    {\n",
    "        //Validation\n",
    "        var dataAccess = new DataAccess();\n",
    "        dataAccess.Store(userName, password);\n",
    "    }\n",
    "}\n",
    "\n",
    "\n",
    "public interface IDataAccess\n",
    "{\n",
    "    void Store(string userName, string password);\n",
    "}\n",
    "\n",
    "public class DataAccess : IDataAccess\n",
    "{\n",
    "    public void Store(string userName, string password)\n",
    "    {\n",
    "        //Escrevendo no banco de dados\n",
    "    }\n",
    "}"
   ]
  },
  {
   "cell_type": "markdown",
   "metadata": {},
   "source": [
    "> Para reduzir o acoplamento no lugar da var vamos utilizar a interface."
   ]
  },
  {
   "cell_type": "code",
   "execution_count": null,
   "metadata": {
    "dotnet_interactive": {
     "language": "csharp"
    }
   },
   "outputs": [],
   "source": [
    "IBusiness business = new Business();"
   ]
  },
  {
   "cell_type": "markdown",
   "metadata": {},
   "source": [
    "> Imagine que tenhamos dois Businnes utilizando da mesma assinatura. "
   ]
  },
  {
   "cell_type": "code",
   "execution_count": null,
   "metadata": {
    "dotnet_interactive": {
     "language": "csharp"
    }
   },
   "outputs": [],
   "source": [
    "//Implemento a interface de IBusiness\n",
    "public class BusinessV2 : IBusiness\n",
    "{\n",
    "    public void SignUp(string userName, string password)\n",
    "    {\n",
    "        throw new NotImplementedException();\n",
    "    }\n",
    "}"
   ]
  },
  {
   "cell_type": "markdown",
   "metadata": {},
   "source": [
    "> Aqui em vez de criar um novo négocio basta dizer em meio a instancia esse novo business."
   ]
  },
  {
   "cell_type": "code",
   "execution_count": null,
   "metadata": {
    "dotnet_interactive": {
     "language": "csharp"
    }
   },
   "outputs": [],
   "source": [
    "IBusiness business = new Business();\n",
    "\n",
    "IBusiness business = new BusinessV2();"
   ]
  },
  {
   "cell_type": "markdown",
   "metadata": {},
   "source": [
    "> Como você vê agora eu tenho outro método de inscrição.\n",
    "Então, aqui facilmente em vez de um novo negócio, eu posso dizer Business V dois.\n",
    "\n",
    "E essa é a única parte que eu estou mudando porque o negócio V dois tem exatamente o mesmo método, que é assinar e método assinaturas como Business Y porque ambos implementam um negócio.\n",
    "\n",
    "Podemos fazer a mesma coisa sobre a classe de acesso a dados também.\n",
    "Ao fazer isso, reduzimos o acoplamento ou reduzimos a dependência."
   ]
  }
 ],
 "metadata": {
  "language_info": {
   "name": "plaintext"
  },
  "orig_nbformat": 4
 },
 "nbformat": 4,
 "nbformat_minor": 2
}
